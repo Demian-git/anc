{
 "cells": [
  {
   "cell_type": "code",
   "execution_count": 5,
   "id": "a03f2565",
   "metadata": {},
   "outputs": [],
   "source": [
    "# 1-second clips  ➜  1.pt, 2.pt, ...\n",
    "import os, torch, torchaudio\n",
    "from glob import glob\n",
    "import random"
   ]
  },
  {
   "cell_type": "code",
   "execution_count": 8,
   "id": "21097844",
   "metadata": {},
   "outputs": [
    {
     "name": "stdout",
     "output_type": "stream",
     "text": [
      "총 9419개의 5초짜리 wav 텐서를 저장했습니다.\n"
     ]
    }
   ],
   "source": [
    "import os\n",
    "import torchaudio\n",
    "import torchaudio.transforms as T\n",
    "import torch\n",
    "\n",
    "target_sr = 16000\n",
    "max_duration = 5\n",
    "max_length = target_sr * max_duration\n",
    "\n",
    "target_dir = \"./vehicle\"\n",
    "wav_tensor_list = []\n",
    "\n",
    "# 리샘플러 미리 준비 (동일한 orig_freq일 때만 적용)\n",
    "resamplers = {}  # orig_sr -> resampler\n",
    "\n",
    "for root, _, files in os.walk(target_dir):\n",
    "    for fname in files:\n",
    "        if fname.lower().endswith(\".wav\"):\n",
    "            path = os.path.join(root, fname)\n",
    "            try:\n",
    "                waveform, sr = torchaudio.load(path)\n",
    "\n",
    "                # 모노로 변환\n",
    "                if waveform.shape[0] > 1:\n",
    "                    waveform = waveform.mean(dim=0, keepdim=True)\n",
    "\n",
    "                # 리샘플링 필요할 때만\n",
    "                if sr != target_sr:\n",
    "                    if sr not in resamplers:\n",
    "                        resamplers[sr] = T.Resample(orig_freq=sr, new_freq=target_sr)\n",
    "                    waveform = resamplers[sr](waveform)\n",
    "\n",
    "                num_samples = waveform.shape[1]\n",
    "                if num_samples < max_length:\n",
    "                    continue  # 5초 미만 제거\n",
    "                elif num_samples > max_length:\n",
    "                    waveform = waveform[:, :max_length]\n",
    "\n",
    "                wav_tensor_list.append(waveform.squeeze(0))  # (1, N) → (N,)\n",
    "            except Exception as e:\n",
    "                print(f\"오류: {path}, {e}\")\n",
    "\n",
    "print(f\"총 {len(wav_tensor_list)}개의 5초짜리 wav 텐서를 저장했습니다.\")\n"
   ]
  },
  {
   "cell_type": "code",
   "execution_count": 9,
   "id": "8bb1d8e9",
   "metadata": {},
   "outputs": [
    {
     "name": "stdout",
     "output_type": "stream",
     "text": [
      "학습 데이터 개수: 8477\n",
      "검증 데이터 개수: 942\n"
     ]
    }
   ],
   "source": [
    "\n",
    "# 셔플\n",
    "random.seed(42)  # 재현 가능성 위한 고정 시드\n",
    "random.shuffle(wav_tensor_list)\n",
    "\n",
    "# 나누기\n",
    "n_total = len(wav_tensor_list)\n",
    "n_train = int(n_total * 0.9)\n",
    "\n",
    "train_list = wav_tensor_list[:n_train]\n",
    "valid_list = wav_tensor_list[n_train:]\n",
    "\n",
    "print(f\"학습 데이터 개수: {len(train_list)}\")\n",
    "print(f\"검증 데이터 개수: {len(valid_list)}\")"
   ]
  },
  {
   "cell_type": "code",
   "execution_count": 10,
   "id": "a811876d",
   "metadata": {},
   "outputs": [],
   "source": [
    "torch.save(train_list,\"train.pt\")\n",
    "torch.save(valid_list,\"eval.pt\")"
   ]
  }
 ],
 "metadata": {
  "kernelspec": {
   "display_name": ".venv",
   "language": "python",
   "name": "python3"
  },
  "language_info": {
   "codemirror_mode": {
    "name": "ipython",
    "version": 3
   },
   "file_extension": ".py",
   "mimetype": "text/x-python",
   "name": "python",
   "nbconvert_exporter": "python",
   "pygments_lexer": "ipython3",
   "version": "3.12.9"
  }
 },
 "nbformat": 4,
 "nbformat_minor": 5
}
