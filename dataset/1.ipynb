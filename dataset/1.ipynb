{
 "cells": [
  {
   "cell_type": "code",
   "execution_count": null,
   "id": "21097844",
   "metadata": {},
   "outputs": [
    {
     "name": "stdout",
     "output_type": "stream",
     "text": [
      "총 30361개의 5초짜리 wav 텐서를 저장했습니다.\n"
     ]
    }
   ],
   "source": [
    "import os\n",
    "import torchaudio\n",
    "import torchaudio.transforms as T\n",
    "import torch\n",
    "\n",
    "target_sr = 16000\n",
    "min_duration = 5\n",
    "min_length = target_sr * min_duration\n",
    "\n",
    "name = \"music\"\n",
    "target_dir = f\"./{name}\"\n",
    "wav_tensor_list = []\n",
    "\n",
    "# 리샘플러 미리 준비 (동일한 orig_freq일 때만 적용)\n",
    "resamplers = {}  # orig_sr -> resampler\n",
    "\n",
    "for root, _, files in os.walk(target_dir):\n",
    "    for fname in files:\n",
    "        if fname.lower().endswith(\".wav\"):\n",
    "            path = os.path.join(root, fname)\n",
    "            try:\n",
    "                waveform, sr = torchaudio.load(path)\n",
    "                waveform = waveform.to(torch.float16)\n",
    "\n",
    "                # 모노로 변환\n",
    "                if waveform.shape[0] > 1:\n",
    "                    waveform = waveform.mean(dim=0, keepdim=True)\n",
    "                waveform = waveform.squeeze(0)\n",
    "                # 리샘플링 필요할 때만\n",
    "                if sr != target_sr:\n",
    "                    if sr not in resamplers:\n",
    "                        resamplers[sr] = T.Resample(orig_freq=sr, new_freq=target_sr)\n",
    "                    waveform = resamplers[sr](waveform)\n",
    "\n",
    "                num_samples = waveform.shape[0]\n",
    "                if num_samples < min_length:\n",
    "                    continue  # 5초 미만 제거\n",
    "                elif num_samples > min_length:\n",
    "                    length = int(num_samples/min_length)\n",
    "                    for i in range(length):\n",
    "                        clip  = waveform[i*min_length:(i+1)*min_length]\n",
    "                        wav_tensor_list.append(clip)\n",
    "\n",
    "            except Exception as e:\n",
    "                print(f\"오류: {path}, {e}\")\n",
    "\n",
    "print(f\"총 {len(wav_tensor_list)}개의 5초짜리 wav 텐서를 저장했습니다.\")\n"
   ]
  },
  {
   "cell_type": "code",
   "execution_count": null,
   "id": "03b2e5a1",
   "metadata": {},
   "outputs": [],
   "source": [
    "import os\n",
    "import torchaudio\n",
    "import torchaudio.transforms as T\n",
    "import torch\n",
    "import random\n",
    "\n",
    "target_sr = 16000\n",
    "min_sec = 5\n",
    "max_sec = 8\n",
    "min_length = target_sr * min_sec\n",
    "max_length = target_sr * max_sec\n",
    "name = \"music\"\n",
    "target_dir = f\"./{name}\"\n",
    "wav_tensor_list = []\n",
    "\n",
    "resamplers = {}  # orig_sr -> resampler\n",
    "\n",
    "for root, _, files in os.walk(target_dir):\n",
    "    for fname in files:\n",
    "        if fname.lower().endswith(\".wav\"):\n",
    "            path = os.path.join(root, fname)\n",
    "            try:\n",
    "                waveform, sr = torchaudio.load(path)\n",
    "                if waveform.shape[0] > 1:\n",
    "                    waveform = waveform.mean(dim=0, keepdim=True)\n",
    "                waveform = waveform.squeeze(0)\n",
    "\n",
    "                if sr != target_sr:\n",
    "                    if sr not in resamplers:\n",
    "                        resamplers[sr] = T.Resample(orig_freq=sr, new_freq=target_sr)\n",
    "                    waveform = resamplers[sr](waveform)\n",
    "\n",
    "                num_samples = waveform.shape[0]\n",
    "                if num_samples < min_length:\n",
    "                    continue\n",
    "\n",
    "                start_idx = 0\n",
    "                while start_idx + min_length <= num_samples:\n",
    "                    rand_sec = random.uniform(min_sec, max_sec)\n",
    "                    clip_len = int(rand_sec * target_sr)\n",
    "                    end_idx = start_idx + clip_len\n",
    "\n",
    "                    if end_idx > num_samples:\n",
    "                        break\n",
    "\n",
    "                    clip = waveform[start_idx:end_idx]\n",
    "                    wav_tensor_list.append(clip)\n",
    "                    start_idx = end_idx\n",
    "\n",
    "                # 💡 마지막 남은 구간도 최소 길이 이상이면 추가\n",
    "                if num_samples - start_idx >= min_length:\n",
    "                    clip = waveform[start_idx:]\n",
    "                    wav_tensor_list.append(clip)\n",
    "\n",
    "            except Exception as e:\n",
    "                print(f\"오류: {path}, {e}\")\n",
    "\n",
    "print(f\"총 {len(wav_tensor_list)}개의 랜덤 길이(5~8초) wav 텐서를 저장했습니다.\")\n"
   ]
  },
  {
   "cell_type": "code",
   "execution_count": 2,
   "id": "8bb1d8e9",
   "metadata": {},
   "outputs": [
    {
     "name": "stdout",
     "output_type": "stream",
     "text": [
      "학습 데이터 개수: 27324\n",
      "검증 데이터 개수: 3037\n"
     ]
    }
   ],
   "source": [
    "import random\n",
    "# 셔플\n",
    "random.seed(42)  # 재현 가능성 위한 고정 시드\n",
    "random.shuffle(wav_tensor_list)\n",
    "\n",
    "# 나누기\n",
    "n_total = len(wav_tensor_list)\n",
    "n_train = int(n_total * 0.9)\n",
    "\n",
    "train_list = wav_tensor_list[:n_train]\n",
    "valid_list = wav_tensor_list[n_train:]\n",
    "\n",
    "print(f\"학습 데이터 개수: {len(train_list)}\")\n",
    "print(f\"검증 데이터 개수: {len(valid_list)}\")"
   ]
  },
  {
   "cell_type": "code",
   "execution_count": 3,
   "id": "a811876d",
   "metadata": {},
   "outputs": [],
   "source": [
    "torch.save(train_list,f\"train_{name}.pt\")\n",
    "torch.save(valid_list,f\"eval_{name}.pt\")"
   ]
  }
 ],
 "metadata": {
  "kernelspec": {
   "display_name": ".venv",
   "language": "python",
   "name": "python3"
  },
  "language_info": {
   "codemirror_mode": {
    "name": "ipython",
    "version": 3
   },
   "file_extension": ".py",
   "mimetype": "text/x-python",
   "name": "python",
   "nbconvert_exporter": "python",
   "pygments_lexer": "ipython3",
   "version": "3.12.9"
  }
 },
 "nbformat": 4,
 "nbformat_minor": 5
}
