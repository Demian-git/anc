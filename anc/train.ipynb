{
 "cells": [
  {
   "cell_type": "code",
   "execution_count": null,
   "id": "JqeeGeXjP9p6",
   "metadata": {
    "colab": {
     "base_uri": "https://localhost:8080/"
    },
    "executionInfo": {
     "elapsed": 1244,
     "status": "ok",
     "timestamp": 1749782476334,
     "user": {
      "displayName": "OpenCluster Project",
      "userId": "04280623790330063978"
     },
     "user_tz": -540
    },
    "id": "JqeeGeXjP9p6",
    "outputId": "58fa7544-44af-4399-a810-c8b3a8ff1dc0"
   },
   "outputs": [],
   "source": [
    "from google.colab import drive\n",
    "drive.mount('/content/drive')\n",
    "import sys\n",
    "sys.path.append('.')\n",
    "import os\n",
    "os.chdir('/content/drive/MyDrive/Colab Notebooks/anc')"
   ]
  },
  {
   "cell_type": "code",
   "execution_count": null,
   "id": "NGxzAoJWOdpD",
   "metadata": {
    "colab": {
     "base_uri": "https://localhost:8080/"
    },
    "executionInfo": {
     "elapsed": 4402,
     "status": "ok",
     "timestamp": 1749782480734,
     "user": {
      "displayName": "OpenCluster Project",
      "userId": "04280623790330063978"
     },
     "user_tz": -540
    },
    "id": "NGxzAoJWOdpD",
    "outputId": "d8783550-4356-4c05-c3fa-d7cb92251ded"
   },
   "outputs": [],
   "source": [
    "!pip install import_ipynb"
   ]
  },
  {
   "cell_type": "code",
   "execution_count": null,
   "id": "bh-MZ41kpXI8",
   "metadata": {
    "executionInfo": {
     "elapsed": 70,
     "status": "ok",
     "timestamp": 1749782480807,
     "user": {
      "displayName": "OpenCluster Project",
      "userId": "04280623790330063978"
     },
     "user_tz": -540
    },
    "id": "bh-MZ41kpXI8"
   },
   "outputs": [],
   "source": [
    "name = \"7th_ELU\""
   ]
  },
  {
   "cell_type": "code",
   "execution_count": null,
   "id": "c920670e",
   "metadata": {
    "executionInfo": {
     "elapsed": 2,
     "status": "ok",
     "timestamp": 1749782480811,
     "user": {
      "displayName": "OpenCluster Project",
      "userId": "04280623790330063978"
     },
     "user_tz": -540
    },
    "id": "c920670e"
   },
   "outputs": [],
   "source": [
    "import torchaudio\n",
    "import torch\n",
    "import torch.nn as nn\n",
    "from torch.utils.data import DataLoader\n",
    "import numpy as np\n",
    "import librosa\n",
    "from torch.nn.utils.rnn import pad_sequence\n",
    "from scipy.signal import fftconvolve\n",
    "import torch.nn.functional as F\n",
    "\n",
    "import matplotlib.pyplot as plt\n",
    "import IPython.display as ipd\n",
    "import import_ipynb"
   ]
  },
  {
   "cell_type": "code",
   "execution_count": null,
   "id": "bccc3f88",
   "metadata": {
    "colab": {
     "base_uri": "https://localhost:8080/"
    },
    "executionInfo": {
     "elapsed": 6,
     "status": "ok",
     "timestamp": 1749782480820,
     "user": {
      "displayName": "OpenCluster Project",
      "userId": "04280623790330063978"
     },
     "user_tz": -540
    },
    "id": "bccc3f88",
    "outputId": "cac46abd-937a-4357-e978-1f8c0eb8296c"
   },
   "outputs": [],
   "source": [
    "device = (\n",
    "    \"cuda\"\n",
    "    if torch.cuda.is_available()\n",
    "    else \"mps\"\n",
    "    if torch.backends.mps.is_available()\n",
    "    else \"cpu\"\n",
    ")\n",
    "print(f\"Using {device} device\")"
   ]
  },
  {
   "cell_type": "code",
   "execution_count": null,
   "id": "50db9d7b",
   "metadata": {
    "executionInfo": {
     "elapsed": 2,
     "status": "ok",
     "timestamp": 1749782480826,
     "user": {
      "displayName": "OpenCluster Project",
      "userId": "04280623790330063978"
     },
     "user_tz": -540
    },
    "id": "50db9d7b"
   },
   "outputs": [],
   "source": [
    "from model import CRN_2\n",
    "from dataset import Dataset"
   ]
  },
  {
   "cell_type": "code",
   "execution_count": null,
   "id": "d155ff38",
   "metadata": {
    "executionInfo": {
     "elapsed": 13,
     "status": "ok",
     "timestamp": 1749782480842,
     "user": {
      "displayName": "OpenCluster Project",
      "userId": "04280623790330063978"
     },
     "user_tz": -540
    },
    "id": "d155ff38"
   },
   "outputs": [],
   "source": [
    "sampling_rate = 16000\n",
    "length = sampling_rate*5"
   ]
  },
  {
   "cell_type": "code",
   "execution_count": null,
   "id": "af1f164a",
   "metadata": {
    "executionInfo": {
     "elapsed": 61,
     "status": "ok",
     "timestamp": 1749782480905,
     "user": {
      "displayName": "OpenCluster Project",
      "userId": "04280623790330063978"
     },
     "user_tz": -540
    },
    "id": "af1f164a"
   },
   "outputs": [],
   "source": [
    "ANC = CRN_2().to(device)"
   ]
  },
  {
   "cell_type": "code",
   "execution_count": null,
   "id": "2d791330",
   "metadata": {
    "executionInfo": {
     "elapsed": 3674,
     "status": "ok",
     "timestamp": 1749782484581,
     "user": {
      "displayName": "OpenCluster Project",
      "userId": "04280623790330063978"
     },
     "user_tz": -540
    },
    "id": "2d791330"
   },
   "outputs": [],
   "source": [
    "from torch.utils.data import Subset\n",
    "train_data = Dataset(train=True)\n",
    "eval_data = Dataset(train=False)"
   ]
  },
  {
   "cell_type": "code",
   "execution_count": null,
   "id": "fa2ffa75",
   "metadata": {
    "executionInfo": {
     "elapsed": 11,
     "status": "ok",
     "timestamp": 1749782484585,
     "user": {
      "displayName": "OpenCluster Project",
      "userId": "04280623790330063978"
     },
     "user_tz": -540
    },
    "id": "fa2ffa75"
   },
   "outputs": [],
   "source": [
    "train_dataloader = DataLoader(train_data, batch_size=64, shuffle=True)\n",
    "eval_dataloader = DataLoader(eval_data, batch_size=64, shuffle=False)"
   ]
  },
  {
   "cell_type": "code",
   "execution_count": null,
   "id": "b51f83ce",
   "metadata": {
    "executionInfo": {
     "elapsed": 2,
     "status": "ok",
     "timestamp": 1749782484591,
     "user": {
      "displayName": "OpenCluster Project",
      "userId": "04280623790330063978"
     },
     "user_tz": -540
    },
    "id": "b51f83ce"
   },
   "outputs": [],
   "source": [
    "learning_rate = 1e-3\n",
    "epochs = 15\n",
    "optimizer = torch.optim.AdamW(ANC.parameters(),lr = learning_rate)"
   ]
  },
  {
   "cell_type": "code",
   "execution_count": null,
   "id": "c5173823",
   "metadata": {
    "executionInfo": {
     "elapsed": 2,
     "status": "ok",
     "timestamp": 1749782484596,
     "user": {
      "displayName": "OpenCluster Project",
      "userId": "04280623790330063978"
     },
     "user_tz": -540
    },
    "id": "c5173823"
   },
   "outputs": [],
   "source": [
    "def rir_batch(wav: torch.Tensor, rir_path: str) -> torch.Tensor:\n",
    "        rir_np = np.loadtxt(rir_path)[:, 1]\n",
    "        rir_energy = np.sum(rir_np ** 2)\n",
    "        rir_np = rir_np / np.sqrt(rir_energy)\n",
    "        rir_tensor = torch.from_numpy(rir_np).float().to(wav.device)  # (R,)\n",
    "        rir_tensor = rir_tensor.view(1, 1, -1)  # (1, 1, R) for conv1d\n",
    "        padding = rir_tensor.size(-1) - 1\n",
    "        # wav: (B, T) -> (B, 1, T)\n",
    "        wav = wav.unsqueeze(1)\n",
    "        # conv1d는 kernel을 뒤집으므로 flip\n",
    "        rir_tensor_flipped = torch.flip(rir_tensor, dims=[2])\n",
    "        # F.conv1d는 valid convolution 수행\n",
    "        y = F.conv1d(wav, rir_tensor_flipped, padding=padding)  # (B, 1, T+R-1)\n",
    "        y = y.squeeze(1)  # (B, T+R-1)\n",
    "\n",
    "        return y[:, :length]"
   ]
  },
  {
   "cell_type": "code",
   "execution_count": null,
   "id": "d8acfe73",
   "metadata": {
    "colab": {
     "base_uri": "https://localhost:8080/"
    },
    "executionInfo": {
     "elapsed": 5387328,
     "status": "ok",
     "timestamp": 1749787871928,
     "user": {
      "displayName": "OpenCluster Project",
      "userId": "04280623790330063978"
     },
     "user_tz": -540
    },
    "id": "d8acfe73",
    "outputId": "cf639786-6630-4cc5-9050-9095509dce99"
   },
   "outputs": [],
   "source": [
    "import torch.nn.functional as F\n",
    "epsilon = 1e-8\n",
    "n_fft = 320\n",
    "hop_length = 160\n",
    "win_length = 320\n",
    "window = torch.hann_window(win_length).to(device)  # STFT/ISTFT에 사용\n",
    "\n",
    "train_loss = []\n",
    "train_NMSE = []\n",
    "eval_loss = []\n",
    "eval_NMSE = []\n",
    "epsilon = 1e-8\n",
    "\n",
    "for epoch in range(epochs):\n",
    "    print(f\"Epoch {epoch}\")\n",
    "\n",
    "    train_loss_epoch = []\n",
    "    train_nmse_epoch = []\n",
    "    #--------------------------------------------------------------------------------------------------\n",
    "    ANC.train()\n",
    "    for ori, perr in train_dataloader:\n",
    "        B = ori.size(0)\n",
    "        ori = ori.to(device)\n",
    "        perr = perr.to(device)\n",
    "\n",
    "        optimizer.zero_grad()\n",
    "        stft_ori = torch.stft(\n",
    "            ori, n_fft=n_fft, hop_length=hop_length, win_length=win_length,\n",
    "            return_complex=True, center=True, onesided=True, window=window\n",
    "        )\n",
    "        stft_ori_real = stft_ori.real\n",
    "        stft_ori_imag = stft_ori.imag\n",
    "        stft_ori_tensor = torch.stack([stft_ori_real, stft_ori_imag], dim=1) # 원하는 사이즈 batch,2,time,320\n",
    "        stft_pred = ANC(stft_ori_tensor)\n",
    "        stft_pred_complex = torch.complex(stft_pred[:, 0], stft_pred[:, 1])  # real, imag\n",
    "        # ISTFT\n",
    "        istft_pred = torch.istft(\n",
    "            stft_pred_complex,\n",
    "            n_fft=n_fft,\n",
    "            hop_length=hop_length,\n",
    "            win_length=win_length,\n",
    "            center=True,\n",
    "            onesided=True,\n",
    "            window=window,\n",
    "            length=ori.shape[1]\n",
    "        )\n",
    "\n",
    "        u_serr = rir_batch(istft_pred,\"s-err.txt\")\n",
    "        error  = perr + u_serr                         # 목표 0\n",
    "        loss   = torch.mean(error ** 2)\n",
    "        loss.backward()\n",
    "        optimizer.step()\n",
    "    #-------------------------------------------------------------------------------------------------------------\n",
    "        train_loss_epoch.append(loss.item())\n",
    "        # 배치별 NMSE 계산 후 저장\n",
    "        for i in range(B):\n",
    "            d = u_serr[i]       # 목표=0이므로 target이 곧 분모 신호\n",
    "            err_i  = error[i]                  # = perr[i] + u_serr[i]\n",
    "\n",
    "            num   = torch.sum(err_i ** 2)\n",
    "            denom = torch.sum(d ** 2) + epsilon\n",
    "            nmse_i = 10 * torch.log10(num / denom)\n",
    "            train_nmse_epoch.append(nmse_i)\n",
    "\n",
    "    # 에포크별 평균 기록\n",
    "    epoch_loss = sum(train_loss_epoch) / len(train_loss_epoch)\n",
    "    print(f\"train_epoch_loss:{epoch_loss}\")\n",
    "    epoch_nmse = torch.mean(torch.stack(train_nmse_epoch)).item()\n",
    "    print(f\"train_epoch_NMSE:{epoch_nmse}\")\n",
    "    train_loss.append(epoch_loss)\n",
    "    train_NMSE.append(epoch_nmse)\n",
    "    #-------------------------------------------------------------------------------------------------------------\n",
    "    eval_loss_epoch = []\n",
    "    eval_nmse_epoch = []\n",
    "    #-------------------------------------------------------------------------------------------------------------\n",
    "    ANC.eval()\n",
    "\n",
    "    for ori, perr in eval_dataloader:\n",
    "        B = ori.size(0)                       # 배치 크기\n",
    "        ori = ori.to(device)\n",
    "        perr = perr.to(device)\n",
    "        with torch.no_grad():\n",
    "            stft_ori = torch.stft(\n",
    "                ori, n_fft=n_fft, hop_length=hop_length, win_length=win_length,\n",
    "                return_complex=True, center=True, onesided=True, window=window\n",
    "            )\n",
    "            stft_ori_real = stft_ori.real\n",
    "            stft_ori_imag = stft_ori.imag\n",
    "            stft_x_tensor = torch.stack([stft_ori_real, stft_ori_imag], dim=1) # 원하는 사이즈 batch,2,time,320\n",
    "            stft_pred = ANC(stft_x_tensor)\n",
    "            stft_pred_complex = torch.complex(stft_pred[:, 0], stft_pred[:, 1])  # real, imag\n",
    "            # ISTFT\n",
    "            istft_pred = torch.istft(\n",
    "                stft_pred_complex,\n",
    "                n_fft=n_fft,\n",
    "                hop_length=hop_length,\n",
    "                win_length=win_length,\n",
    "                center=True,\n",
    "                onesided=True,\n",
    "                window=window,\n",
    "                length=ori.shape[1]\n",
    "            )\n",
    "            u_serr = rir_batch(istft_pred,\"s-err.txt\")\n",
    "            error  = perr + u_serr                         # 목표 0\n",
    "            loss   = torch.mean(error ** 2)\n",
    "    #-------------------------------------------------------------------------------------------------------------\n",
    "            eval_loss_epoch.append(loss.item())\n",
    "\n",
    "        # 배치별 NMSE 계산 후 저장\n",
    "        for i in range(B):\n",
    "            d = u_serr[i]       # 목표=0이므로 target이 곧 분모 신호\n",
    "            err_i  = error[i]                  # = perr[i] + u_serr[i]\n",
    "\n",
    "            num   = torch.sum(err_i ** 2)\n",
    "            denom = torch.sum(d ** 2) + epsilon\n",
    "            nmse_i = 10 * torch.log10(num / denom)\n",
    "            eval_nmse_epoch.append(nmse_i)\n",
    "\n",
    "    # 에포크별 평균 기록\n",
    "    epoch_loss = sum(eval_loss_epoch) / len(eval_loss_epoch)\n",
    "    print(f\"eval_epoch_loss:{epoch_loss}\")\n",
    "    epoch_nmse = torch.mean(torch.stack(eval_nmse_epoch)).item()\n",
    "    print(f\"eval_epoch_NMSE:{epoch_nmse}\")\n",
    "    eval_loss.append(epoch_loss)\n",
    "    eval_NMSE.append(epoch_nmse)"
   ]
  },
  {
   "cell_type": "code",
   "execution_count": null,
   "id": "60fa0a41",
   "metadata": {
    "colab": {
     "base_uri": "https://localhost:8080/",
     "height": 0
    },
    "executionInfo": {
     "elapsed": 523,
     "status": "ok",
     "timestamp": 1749787872350,
     "user": {
      "displayName": "OpenCluster Project",
      "userId": "04280623790330063978"
     },
     "user_tz": -540
    },
    "id": "60fa0a41",
    "outputId": "65610087-6cc6-40ab-87d7-6fddc2cd3955"
   },
   "outputs": [],
   "source": [
    "import matplotlib.pyplot as plt\n",
    "\n",
    "\n",
    "epochs = list(range(1, len(train_loss) + 1))\n",
    "\n",
    "# 그래프 출력\n",
    "plt.figure(figsize=(12, 5))\n",
    "\n",
    "# Loss 그래프\n",
    "plt.subplot(1, 2, 1)\n",
    "plt.plot(epochs, train_loss, label='Train Loss')\n",
    "plt.plot(epochs, eval_loss, label='Eval Loss')\n",
    "plt.xlabel('Epoch')\n",
    "plt.ylabel('Loss')\n",
    "plt.title('Training and Evaluation Loss')\n",
    "plt.legend()\n",
    "plt.grid(True)\n",
    "\n",
    "# NMSE 그래프\n",
    "plt.subplot(1, 2, 2)\n",
    "plt.plot(epochs, train_NMSE, label='Train NMSE')\n",
    "plt.plot(epochs, eval_NMSE, label='Eval NMSE')\n",
    "plt.xlabel('Epoch')\n",
    "plt.ylabel('NMSE (dB)')\n",
    "plt.title('Training and Evaluation NMSE')\n",
    "plt.legend()\n",
    "plt.grid(True)\n",
    "\n",
    "plt.tight_layout()\n",
    "plt.savefig(f\"{name}.png\", dpi=300)\n",
    "plt.show()"
   ]
  },
  {
   "cell_type": "code",
   "execution_count": null,
   "id": "n_xo9HWDRvsQ",
   "metadata": {
    "executionInfo": {
     "elapsed": 4,
     "status": "ok",
     "timestamp": 1749787872360,
     "user": {
      "displayName": "OpenCluster Project",
      "userId": "04280623790330063978"
     },
     "user_tz": -540
    },
    "id": "n_xo9HWDRvsQ"
   },
   "outputs": [],
   "source": [
    "torch.save(ANC.state_dict(), f'{name}.pth')"
   ]
  }
 ],
 "metadata": {
  "accelerator": "GPU",
  "colab": {
   "gpuType": "L4",
   "provenance": []
  },
  "kernelspec": {
   "display_name": ".venv",
   "language": "python",
   "name": "python3"
  },
  "language_info": {
   "codemirror_mode": {
    "name": "ipython",
    "version": 3
   },
   "file_extension": ".py",
   "mimetype": "text/x-python",
   "name": "python",
   "nbconvert_exporter": "python",
   "pygments_lexer": "ipython3",
   "version": "3.12.9"
  }
 },
 "nbformat": 4,
 "nbformat_minor": 5
}
