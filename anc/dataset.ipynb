{
 "cells": [
  {
   "cell_type": "code",
   "execution_count": 1,
   "id": "a1ff7ee6",
   "metadata": {
    "id": "a1ff7ee6"
   },
   "outputs": [],
   "source": [
    "import os, torch, random\n",
    "from glob import glob\n",
    "from torch.utils.data import Dataset\n",
    "import numpy as np\n",
    "from scipy.signal import fftconvolve\n",
    "import torch.nn.functional as F"
   ]
  },
  {
   "cell_type": "code",
   "execution_count": 2,
   "id": "c6f9da10",
   "metadata": {
    "id": "c6f9da10"
   },
   "outputs": [],
   "source": [
    "class Dataset(Dataset):\n",
    "    def __init__(self, train=True, segment=16000):\n",
    "        super().__init__()\n",
    "        self.dir = \"./train.pt\" if train else \"./eval.pt\"\n",
    "        self.segment = segment * 5\n",
    "        self.data = torch.load(self.dir)\n",
    "\n",
    "    def __len__(self):\n",
    "        return len(self.data)\n",
    "\n",
    "    def rir(self, wav: torch.Tensor, rir_path: str) -> torch.Tensor:\n",
    "        rir_np = np.loadtxt(rir_path)[:, 1]\n",
    "        rir_energy = np.sum(rir_np**2)\n",
    "        rir_np = rir_np / np.sqrt(rir_energy)\n",
    "        rir_tensor = torch.from_numpy(rir_np).float()\n",
    "        wav_np = wav.cpu().numpy()\n",
    "        rir_np = rir_tensor.cpu().numpy()\n",
    "        y_np = fftconvolve(wav_np, rir_np, mode=\"full\")\n",
    "        y = torch.from_numpy(y_np).float()\n",
    "        #print(y.shape) # 19199\n",
    "        return y[0:self.segment]\n",
    "\n",
    "    def __getitem__(self, idx):\n",
    "        wav=self.data[idx]\n",
    "        perr = self.rir(wav, \"p-err.txt\")\n",
    "\n",
    "        return wav,perr"
   ]
  }
 ],
 "metadata": {
  "colab": {
   "provenance": []
  },
  "kernelspec": {
   "display_name": ".venv",
   "language": "python",
   "name": "python3"
  },
  "language_info": {
   "codemirror_mode": {
    "name": "ipython",
    "version": 3
   },
   "file_extension": ".py",
   "mimetype": "text/x-python",
   "name": "python",
   "nbconvert_exporter": "python",
   "pygments_lexer": "ipython3",
   "version": "3.12.9"
  }
 },
 "nbformat": 4,
 "nbformat_minor": 5
}
